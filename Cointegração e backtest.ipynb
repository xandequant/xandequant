{
  "nbformat": 4,
  "nbformat_minor": 0,
  "metadata": {
    "colab": {
      "provenance": [],
      "toc_visible": true
    },
    "kernelspec": {
      "name": "python3",
      "display_name": "Python 3"
    },
    "language_info": {
      "name": "python"
    }
  },
  "cells": [
    {
      "cell_type": "markdown",
      "source": [
        "# Pairs Trading: Como a Cointegração de Johansen em bancos brasileiros rendeu 15,39% de retorno acumulado em 15 dias.\n",
        "\n",
        "\n",
        "Robert F. Engle e Clive W. J. Granger faturaram o Nobel de Economia em 2003 por uma série de trabalhos publicados sobre a Cointegração, uma técnica estatística que utiliza correções, estimativas e testes à não estacionariedade (não centralidade das propriedades estatísticas, como média e variância) de duas séries temporais no longo prazo.\n",
        "\n",
        "Sendo a Cointegração uma técnica de paridade entre ativos, o chamado Pairs Trading, ou operação onde o investidor combina uma posição comprada long na baixa em 2 ativos cointegrados com vendas short na alta, e assim, vai obtendo lucros no spread a curto prazo e baixo risco devido à tendência de reversão à média dos ativos, as chaves dessa estratégia são a identificação esses ativos, a modelagem do spread temporal de preço e o estabelecimento do momentum da operação.\n",
        "\n",
        "No nosso caso, utilizamos a Cointegração de Johansen por ser aplicável a múltiplas séries, como a análise de setores empresariais ou a análise situacional, como um portfolio. Após a aplicação do teste de Augmented Dikey Fuller para a não estacionariedade, a hipótese nula foi confirmada.\n",
        "O teste de Jarque-Bera também confirmou a não normalidade da série. Logo, foi criado um algoritmo que simula a cointegração em intervalos de confiança que indicaram correlação de séries temporais em somente 2 dos 8 bancos analizados: Banco ABC (ABCB4) e Banco do Brasil (BBSE3).\n",
        "\n",
        "Modelamos o spread da cotação entre os 2 bancos cointegrados, técnica desenvolvida pela primeira vez por Robert Elliot, em 2005. Estabelecemos a equação dessa relação entre o banco ABC (ativo-objeto) e o Banco do Brasil (ativo-alvo).\n",
        "\n",
        "Ao utilizarmos estatísticas descritivas e cálculo do retorno do spread, observamos o melhor período para o trade: um espaço de 15 dias (entre os dias 7 e 22/11/2019).\n",
        "\n",
        "Esse período trouxe, conforme o resumo do trade, um retorno de 15,39% e um índice Sharpe de 4,73.\n",
        "Por fim, a volatilidade nesse período alcançou 4,87."
      ],
      "metadata": {
        "id": "XU9tbaoqo25N"
      }
    },
    {
      "cell_type": "markdown",
      "source": [
        "# 1) Importar bibliotecas"
      ],
      "metadata": {
        "id": "XokAqdtkmVj-"
      }
    },
    {
      "cell_type": "code",
      "execution_count": 22,
      "metadata": {
        "id": "oq68deuLOJga"
      },
      "outputs": [],
      "source": [
        "import numpy as np\n",
        "import pandas as pd\n",
        "from pandas_datareader import data as pdr\n",
        "import yfinance as yf\n",
        "from statsmodels.tsa.vector_ar.vecm import coint_johansen\n",
        "from statsmodels.tsa.stattools import adfuller\n",
        "from scipy import stats\n",
        "import statsmodels.api as sm\n",
        "from statsmodels.tsa.stattools import coint\n",
        "from statsmodels.regression.rolling import RollingOLS\n",
        "import seaborn\n",
        "import matplotlib.pyplot as plt\n",
        "import math"
      ]
    },
    {
      "cell_type": "markdown",
      "source": [
        "# 2) Web Scraping e Data Cleaning"
      ],
      "metadata": {
        "id": "7ohKehukmZjx"
      }
    },
    {
      "cell_type": "code",
      "source": [
        "# 8 bancos listados na Bovespa\n",
        "\n",
        "# Critério de seleção: os 7 maiores bancos brasileiros em valor de mercado na data atual + 1 holding com participação relevante no setor\n",
        "# Devido á importancia do fator Liquidez, outro critério importante seriam as negociações diárias dos papéis\n",
        "\n",
        "ticker_bancos = ['ABCB4.SA', 'BPAC3.SA', 'ITUB4.SA', 'BBDC4.SA',  'ITSA4.SA', 'BRSR6.SA', 'SANB3.SA', 'BBAS3.SA', 'BPAN4.SA']"
      ],
      "metadata": {
        "id": "sBZ6wJK0OL_z"
      },
      "execution_count": 23,
      "outputs": []
    },
    {
      "cell_type": "code",
      "source": [
        "# Cotação das séries temporais\n",
        "\n",
        "# Nota importante: O Value Investing objetiva o preço justo do ativo.\n",
        "# Ao Pairs Trading não interessa o preço justo, e sim a flutuação do preço de ativos correlacionados em séries temporais.\n",
        "# O Pairs Trading objetiva vender o ativo com preço mais alto e comprar o ativo mais barato uma vez que haja paridade\n",
        "# e, quanto maior esse spread, maior o potencial de lucro.\n",
        "\n",
        "# Logo, a chave do Pairs Trading é a identificação desses ativos, algo feito pelas técnicas de Cointegração.\n",
        "\n",
        "# Outro corolário é que, se ambos os ativos possuem características semelhantes, seus preços serão mais ou menos o\n",
        "# mesmo.\n",
        "# Observe as cotações do banco ABC (ABCB4) e Banco do Brasil (BBAS3).\n",
        "# BBSA3 foi a primeira empresa negociada na Bolsa, é estabilizada em suas estruturas de dívida e capital e sempre\n",
        "# pagou bons dividendos (possui bom caixa), além de ter proteção governamental (entenda isso como algo positivo).\n",
        "# ABCB4 teve seu IPO em 2007 e nos últimos 6 anos triplicou de preço.\n",
        "\n",
        "# Logo, embora a leitura do balanço e outros testes estatísticos sejam necessários (deve-se jogar nas 11), é provável\n",
        "# a qualificação do banco ABCB4 a também uma estratégia long only rumo à paridade.\n",
        "\n",
        "cotacao = round(yf.download(ticker_bancos, start='2017-01-01')['Adj Close'].dropna(),2)\n",
        "cotacao"
      ],
      "metadata": {
        "colab": {
          "base_uri": "https://localhost:8080/",
          "height": 472
        },
        "id": "LsV8Kwy1OevI",
        "outputId": "1d3e083c-958b-4010-e91c-969e9e5cd005"
      },
      "execution_count": 24,
      "outputs": [
        {
          "output_type": "stream",
          "name": "stderr",
          "text": [
            "[*********************100%%**********************]  9 of 9 completed\n"
          ]
        },
        {
          "output_type": "execute_result",
          "data": {
            "text/plain": [
              "Ticker      ABCB4.SA  BBAS3.SA  BBDC4.SA  BPAC3.SA  BPAN4.SA  BRSR6.SA  \\\n",
              "Date                                                                     \n",
              "2017-01-02      8.43     18.69     10.82      0.84      1.08      6.72   \n",
              "2017-01-03      8.79     19.55     11.28      0.84      1.04      7.08   \n",
              "2017-01-04      9.04     19.45     11.21      0.84      1.03      7.29   \n",
              "2017-01-05      9.19     19.40     11.33      0.90      1.03      7.40   \n",
              "2017-01-06      9.27     19.61     11.40      0.90      1.04      7.53   \n",
              "...              ...       ...       ...       ...       ...       ...   \n",
              "2024-01-18     23.57     55.34     15.67     17.91      8.01     13.89   \n",
              "2024-01-19     23.64     55.92     15.64     17.81      8.03     13.96   \n",
              "2024-01-22     23.06     55.55     15.46     18.39      7.87     13.53   \n",
              "2024-01-23     23.20     56.54     15.38     17.96      7.95     13.91   \n",
              "2024-01-24     23.65     56.65     15.32     18.00      7.85     14.14   \n",
              "\n",
              "Ticker      ITSA4.SA  ITUB4.SA  SANB3.SA  \n",
              "Date                                      \n",
              "2017-01-02      4.02     16.65     12.37  \n",
              "2017-01-03      4.20     17.36     13.03  \n",
              "2017-01-04      4.22     17.43     13.03  \n",
              "2017-01-05      4.26     17.67     13.12  \n",
              "2017-01-06      4.25     17.73     13.41  \n",
              "...              ...       ...       ...  \n",
              "2024-01-18      9.99     32.86     13.89  \n",
              "2024-01-19     10.04     32.94     13.92  \n",
              "2024-01-22      9.91     32.40     13.95  \n",
              "2024-01-23     10.05     32.55     13.94  \n",
              "2024-01-24      9.96     32.40     13.94  \n",
              "\n",
              "[1758 rows x 9 columns]"
            ],
            "text/html": [
              "\n",
              "  <div id=\"df-5e8debe0-b2e3-4654-8b68-6f559c606908\" class=\"colab-df-container\">\n",
              "    <div>\n",
              "<style scoped>\n",
              "    .dataframe tbody tr th:only-of-type {\n",
              "        vertical-align: middle;\n",
              "    }\n",
              "\n",
              "    .dataframe tbody tr th {\n",
              "        vertical-align: top;\n",
              "    }\n",
              "\n",
              "    .dataframe thead th {\n",
              "        text-align: right;\n",
              "    }\n",
              "</style>\n",
              "<table border=\"1\" class=\"dataframe\">\n",
              "  <thead>\n",
              "    <tr style=\"text-align: right;\">\n",
              "      <th>Ticker</th>\n",
              "      <th>ABCB4.SA</th>\n",
              "      <th>BBAS3.SA</th>\n",
              "      <th>BBDC4.SA</th>\n",
              "      <th>BPAC3.SA</th>\n",
              "      <th>BPAN4.SA</th>\n",
              "      <th>BRSR6.SA</th>\n",
              "      <th>ITSA4.SA</th>\n",
              "      <th>ITUB4.SA</th>\n",
              "      <th>SANB3.SA</th>\n",
              "    </tr>\n",
              "    <tr>\n",
              "      <th>Date</th>\n",
              "      <th></th>\n",
              "      <th></th>\n",
              "      <th></th>\n",
              "      <th></th>\n",
              "      <th></th>\n",
              "      <th></th>\n",
              "      <th></th>\n",
              "      <th></th>\n",
              "      <th></th>\n",
              "    </tr>\n",
              "  </thead>\n",
              "  <tbody>\n",
              "    <tr>\n",
              "      <th>2017-01-02</th>\n",
              "      <td>8.43</td>\n",
              "      <td>18.69</td>\n",
              "      <td>10.82</td>\n",
              "      <td>0.84</td>\n",
              "      <td>1.08</td>\n",
              "      <td>6.72</td>\n",
              "      <td>4.02</td>\n",
              "      <td>16.65</td>\n",
              "      <td>12.37</td>\n",
              "    </tr>\n",
              "    <tr>\n",
              "      <th>2017-01-03</th>\n",
              "      <td>8.79</td>\n",
              "      <td>19.55</td>\n",
              "      <td>11.28</td>\n",
              "      <td>0.84</td>\n",
              "      <td>1.04</td>\n",
              "      <td>7.08</td>\n",
              "      <td>4.20</td>\n",
              "      <td>17.36</td>\n",
              "      <td>13.03</td>\n",
              "    </tr>\n",
              "    <tr>\n",
              "      <th>2017-01-04</th>\n",
              "      <td>9.04</td>\n",
              "      <td>19.45</td>\n",
              "      <td>11.21</td>\n",
              "      <td>0.84</td>\n",
              "      <td>1.03</td>\n",
              "      <td>7.29</td>\n",
              "      <td>4.22</td>\n",
              "      <td>17.43</td>\n",
              "      <td>13.03</td>\n",
              "    </tr>\n",
              "    <tr>\n",
              "      <th>2017-01-05</th>\n",
              "      <td>9.19</td>\n",
              "      <td>19.40</td>\n",
              "      <td>11.33</td>\n",
              "      <td>0.90</td>\n",
              "      <td>1.03</td>\n",
              "      <td>7.40</td>\n",
              "      <td>4.26</td>\n",
              "      <td>17.67</td>\n",
              "      <td>13.12</td>\n",
              "    </tr>\n",
              "    <tr>\n",
              "      <th>2017-01-06</th>\n",
              "      <td>9.27</td>\n",
              "      <td>19.61</td>\n",
              "      <td>11.40</td>\n",
              "      <td>0.90</td>\n",
              "      <td>1.04</td>\n",
              "      <td>7.53</td>\n",
              "      <td>4.25</td>\n",
              "      <td>17.73</td>\n",
              "      <td>13.41</td>\n",
              "    </tr>\n",
              "    <tr>\n",
              "      <th>...</th>\n",
              "      <td>...</td>\n",
              "      <td>...</td>\n",
              "      <td>...</td>\n",
              "      <td>...</td>\n",
              "      <td>...</td>\n",
              "      <td>...</td>\n",
              "      <td>...</td>\n",
              "      <td>...</td>\n",
              "      <td>...</td>\n",
              "    </tr>\n",
              "    <tr>\n",
              "      <th>2024-01-18</th>\n",
              "      <td>23.57</td>\n",
              "      <td>55.34</td>\n",
              "      <td>15.67</td>\n",
              "      <td>17.91</td>\n",
              "      <td>8.01</td>\n",
              "      <td>13.89</td>\n",
              "      <td>9.99</td>\n",
              "      <td>32.86</td>\n",
              "      <td>13.89</td>\n",
              "    </tr>\n",
              "    <tr>\n",
              "      <th>2024-01-19</th>\n",
              "      <td>23.64</td>\n",
              "      <td>55.92</td>\n",
              "      <td>15.64</td>\n",
              "      <td>17.81</td>\n",
              "      <td>8.03</td>\n",
              "      <td>13.96</td>\n",
              "      <td>10.04</td>\n",
              "      <td>32.94</td>\n",
              "      <td>13.92</td>\n",
              "    </tr>\n",
              "    <tr>\n",
              "      <th>2024-01-22</th>\n",
              "      <td>23.06</td>\n",
              "      <td>55.55</td>\n",
              "      <td>15.46</td>\n",
              "      <td>18.39</td>\n",
              "      <td>7.87</td>\n",
              "      <td>13.53</td>\n",
              "      <td>9.91</td>\n",
              "      <td>32.40</td>\n",
              "      <td>13.95</td>\n",
              "    </tr>\n",
              "    <tr>\n",
              "      <th>2024-01-23</th>\n",
              "      <td>23.20</td>\n",
              "      <td>56.54</td>\n",
              "      <td>15.38</td>\n",
              "      <td>17.96</td>\n",
              "      <td>7.95</td>\n",
              "      <td>13.91</td>\n",
              "      <td>10.05</td>\n",
              "      <td>32.55</td>\n",
              "      <td>13.94</td>\n",
              "    </tr>\n",
              "    <tr>\n",
              "      <th>2024-01-24</th>\n",
              "      <td>23.65</td>\n",
              "      <td>56.65</td>\n",
              "      <td>15.32</td>\n",
              "      <td>18.00</td>\n",
              "      <td>7.85</td>\n",
              "      <td>14.14</td>\n",
              "      <td>9.96</td>\n",
              "      <td>32.40</td>\n",
              "      <td>13.94</td>\n",
              "    </tr>\n",
              "  </tbody>\n",
              "</table>\n",
              "<p>1758 rows × 9 columns</p>\n",
              "</div>\n",
              "    <div class=\"colab-df-buttons\">\n",
              "\n",
              "  <div class=\"colab-df-container\">\n",
              "    <button class=\"colab-df-convert\" onclick=\"convertToInteractive('df-5e8debe0-b2e3-4654-8b68-6f559c606908')\"\n",
              "            title=\"Convert this dataframe to an interactive table.\"\n",
              "            style=\"display:none;\">\n",
              "\n",
              "  <svg xmlns=\"http://www.w3.org/2000/svg\" height=\"24px\" viewBox=\"0 -960 960 960\">\n",
              "    <path d=\"M120-120v-720h720v720H120Zm60-500h600v-160H180v160Zm220 220h160v-160H400v160Zm0 220h160v-160H400v160ZM180-400h160v-160H180v160Zm440 0h160v-160H620v160ZM180-180h160v-160H180v160Zm440 0h160v-160H620v160Z\"/>\n",
              "  </svg>\n",
              "    </button>\n",
              "\n",
              "  <style>\n",
              "    .colab-df-container {\n",
              "      display:flex;\n",
              "      gap: 12px;\n",
              "    }\n",
              "\n",
              "    .colab-df-convert {\n",
              "      background-color: #E8F0FE;\n",
              "      border: none;\n",
              "      border-radius: 50%;\n",
              "      cursor: pointer;\n",
              "      display: none;\n",
              "      fill: #1967D2;\n",
              "      height: 32px;\n",
              "      padding: 0 0 0 0;\n",
              "      width: 32px;\n",
              "    }\n",
              "\n",
              "    .colab-df-convert:hover {\n",
              "      background-color: #E2EBFA;\n",
              "      box-shadow: 0px 1px 2px rgba(60, 64, 67, 0.3), 0px 1px 3px 1px rgba(60, 64, 67, 0.15);\n",
              "      fill: #174EA6;\n",
              "    }\n",
              "\n",
              "    .colab-df-buttons div {\n",
              "      margin-bottom: 4px;\n",
              "    }\n",
              "\n",
              "    [theme=dark] .colab-df-convert {\n",
              "      background-color: #3B4455;\n",
              "      fill: #D2E3FC;\n",
              "    }\n",
              "\n",
              "    [theme=dark] .colab-df-convert:hover {\n",
              "      background-color: #434B5C;\n",
              "      box-shadow: 0px 1px 3px 1px rgba(0, 0, 0, 0.15);\n",
              "      filter: drop-shadow(0px 1px 2px rgba(0, 0, 0, 0.3));\n",
              "      fill: #FFFFFF;\n",
              "    }\n",
              "  </style>\n",
              "\n",
              "    <script>\n",
              "      const buttonEl =\n",
              "        document.querySelector('#df-5e8debe0-b2e3-4654-8b68-6f559c606908 button.colab-df-convert');\n",
              "      buttonEl.style.display =\n",
              "        google.colab.kernel.accessAllowed ? 'block' : 'none';\n",
              "\n",
              "      async function convertToInteractive(key) {\n",
              "        const element = document.querySelector('#df-5e8debe0-b2e3-4654-8b68-6f559c606908');\n",
              "        const dataTable =\n",
              "          await google.colab.kernel.invokeFunction('convertToInteractive',\n",
              "                                                    [key], {});\n",
              "        if (!dataTable) return;\n",
              "\n",
              "        const docLinkHtml = 'Like what you see? Visit the ' +\n",
              "          '<a target=\"_blank\" href=https://colab.research.google.com/notebooks/data_table.ipynb>data table notebook</a>'\n",
              "          + ' to learn more about interactive tables.';\n",
              "        element.innerHTML = '';\n",
              "        dataTable['output_type'] = 'display_data';\n",
              "        await google.colab.output.renderOutput(dataTable, element);\n",
              "        const docLink = document.createElement('div');\n",
              "        docLink.innerHTML = docLinkHtml;\n",
              "        element.appendChild(docLink);\n",
              "      }\n",
              "    </script>\n",
              "  </div>\n",
              "\n",
              "\n",
              "<div id=\"df-d221c26f-c915-4019-81d7-8a8a88684313\">\n",
              "  <button class=\"colab-df-quickchart\" onclick=\"quickchart('df-d221c26f-c915-4019-81d7-8a8a88684313')\"\n",
              "            title=\"Suggest charts\"\n",
              "            style=\"display:none;\">\n",
              "\n",
              "<svg xmlns=\"http://www.w3.org/2000/svg\" height=\"24px\"viewBox=\"0 0 24 24\"\n",
              "     width=\"24px\">\n",
              "    <g>\n",
              "        <path d=\"M19 3H5c-1.1 0-2 .9-2 2v14c0 1.1.9 2 2 2h14c1.1 0 2-.9 2-2V5c0-1.1-.9-2-2-2zM9 17H7v-7h2v7zm4 0h-2V7h2v10zm4 0h-2v-4h2v4z\"/>\n",
              "    </g>\n",
              "</svg>\n",
              "  </button>\n",
              "\n",
              "<style>\n",
              "  .colab-df-quickchart {\n",
              "      --bg-color: #E8F0FE;\n",
              "      --fill-color: #1967D2;\n",
              "      --hover-bg-color: #E2EBFA;\n",
              "      --hover-fill-color: #174EA6;\n",
              "      --disabled-fill-color: #AAA;\n",
              "      --disabled-bg-color: #DDD;\n",
              "  }\n",
              "\n",
              "  [theme=dark] .colab-df-quickchart {\n",
              "      --bg-color: #3B4455;\n",
              "      --fill-color: #D2E3FC;\n",
              "      --hover-bg-color: #434B5C;\n",
              "      --hover-fill-color: #FFFFFF;\n",
              "      --disabled-bg-color: #3B4455;\n",
              "      --disabled-fill-color: #666;\n",
              "  }\n",
              "\n",
              "  .colab-df-quickchart {\n",
              "    background-color: var(--bg-color);\n",
              "    border: none;\n",
              "    border-radius: 50%;\n",
              "    cursor: pointer;\n",
              "    display: none;\n",
              "    fill: var(--fill-color);\n",
              "    height: 32px;\n",
              "    padding: 0;\n",
              "    width: 32px;\n",
              "  }\n",
              "\n",
              "  .colab-df-quickchart:hover {\n",
              "    background-color: var(--hover-bg-color);\n",
              "    box-shadow: 0 1px 2px rgba(60, 64, 67, 0.3), 0 1px 3px 1px rgba(60, 64, 67, 0.15);\n",
              "    fill: var(--button-hover-fill-color);\n",
              "  }\n",
              "\n",
              "  .colab-df-quickchart-complete:disabled,\n",
              "  .colab-df-quickchart-complete:disabled:hover {\n",
              "    background-color: var(--disabled-bg-color);\n",
              "    fill: var(--disabled-fill-color);\n",
              "    box-shadow: none;\n",
              "  }\n",
              "\n",
              "  .colab-df-spinner {\n",
              "    border: 2px solid var(--fill-color);\n",
              "    border-color: transparent;\n",
              "    border-bottom-color: var(--fill-color);\n",
              "    animation:\n",
              "      spin 1s steps(1) infinite;\n",
              "  }\n",
              "\n",
              "  @keyframes spin {\n",
              "    0% {\n",
              "      border-color: transparent;\n",
              "      border-bottom-color: var(--fill-color);\n",
              "      border-left-color: var(--fill-color);\n",
              "    }\n",
              "    20% {\n",
              "      border-color: transparent;\n",
              "      border-left-color: var(--fill-color);\n",
              "      border-top-color: var(--fill-color);\n",
              "    }\n",
              "    30% {\n",
              "      border-color: transparent;\n",
              "      border-left-color: var(--fill-color);\n",
              "      border-top-color: var(--fill-color);\n",
              "      border-right-color: var(--fill-color);\n",
              "    }\n",
              "    40% {\n",
              "      border-color: transparent;\n",
              "      border-right-color: var(--fill-color);\n",
              "      border-top-color: var(--fill-color);\n",
              "    }\n",
              "    60% {\n",
              "      border-color: transparent;\n",
              "      border-right-color: var(--fill-color);\n",
              "    }\n",
              "    80% {\n",
              "      border-color: transparent;\n",
              "      border-right-color: var(--fill-color);\n",
              "      border-bottom-color: var(--fill-color);\n",
              "    }\n",
              "    90% {\n",
              "      border-color: transparent;\n",
              "      border-bottom-color: var(--fill-color);\n",
              "    }\n",
              "  }\n",
              "</style>\n",
              "\n",
              "  <script>\n",
              "    async function quickchart(key) {\n",
              "      const quickchartButtonEl =\n",
              "        document.querySelector('#' + key + ' button');\n",
              "      quickchartButtonEl.disabled = true;  // To prevent multiple clicks.\n",
              "      quickchartButtonEl.classList.add('colab-df-spinner');\n",
              "      try {\n",
              "        const charts = await google.colab.kernel.invokeFunction(\n",
              "            'suggestCharts', [key], {});\n",
              "      } catch (error) {\n",
              "        console.error('Error during call to suggestCharts:', error);\n",
              "      }\n",
              "      quickchartButtonEl.classList.remove('colab-df-spinner');\n",
              "      quickchartButtonEl.classList.add('colab-df-quickchart-complete');\n",
              "    }\n",
              "    (() => {\n",
              "      let quickchartButtonEl =\n",
              "        document.querySelector('#df-d221c26f-c915-4019-81d7-8a8a88684313 button');\n",
              "      quickchartButtonEl.style.display =\n",
              "        google.colab.kernel.accessAllowed ? 'block' : 'none';\n",
              "    })();\n",
              "  </script>\n",
              "</div>\n",
              "\n",
              "  <div id=\"id_deb70b30-fb43-4268-b449-4cd4d93f4de0\">\n",
              "    <style>\n",
              "      .colab-df-generate {\n",
              "        background-color: #E8F0FE;\n",
              "        border: none;\n",
              "        border-radius: 50%;\n",
              "        cursor: pointer;\n",
              "        display: none;\n",
              "        fill: #1967D2;\n",
              "        height: 32px;\n",
              "        padding: 0 0 0 0;\n",
              "        width: 32px;\n",
              "      }\n",
              "\n",
              "      .colab-df-generate:hover {\n",
              "        background-color: #E2EBFA;\n",
              "        box-shadow: 0px 1px 2px rgba(60, 64, 67, 0.3), 0px 1px 3px 1px rgba(60, 64, 67, 0.15);\n",
              "        fill: #174EA6;\n",
              "      }\n",
              "\n",
              "      [theme=dark] .colab-df-generate {\n",
              "        background-color: #3B4455;\n",
              "        fill: #D2E3FC;\n",
              "      }\n",
              "\n",
              "      [theme=dark] .colab-df-generate:hover {\n",
              "        background-color: #434B5C;\n",
              "        box-shadow: 0px 1px 3px 1px rgba(0, 0, 0, 0.15);\n",
              "        filter: drop-shadow(0px 1px 2px rgba(0, 0, 0, 0.3));\n",
              "        fill: #FFFFFF;\n",
              "      }\n",
              "    </style>\n",
              "    <button class=\"colab-df-generate\" onclick=\"generateWithVariable('cotacao')\"\n",
              "            title=\"Generate code using this dataframe.\"\n",
              "            style=\"display:none;\">\n",
              "\n",
              "  <svg xmlns=\"http://www.w3.org/2000/svg\" height=\"24px\"viewBox=\"0 0 24 24\"\n",
              "       width=\"24px\">\n",
              "    <path d=\"M7,19H8.4L18.45,9,17,7.55,7,17.6ZM5,21V16.75L18.45,3.32a2,2,0,0,1,2.83,0l1.4,1.43a1.91,1.91,0,0,1,.58,1.4,1.91,1.91,0,0,1-.58,1.4L9.25,21ZM18.45,9,17,7.55Zm-12,3A5.31,5.31,0,0,0,4.9,8.1,5.31,5.31,0,0,0,1,6.5,5.31,5.31,0,0,0,4.9,4.9,5.31,5.31,0,0,0,6.5,1,5.31,5.31,0,0,0,8.1,4.9,5.31,5.31,0,0,0,12,6.5,5.46,5.46,0,0,0,6.5,12Z\"/>\n",
              "  </svg>\n",
              "    </button>\n",
              "    <script>\n",
              "      (() => {\n",
              "      const buttonEl =\n",
              "        document.querySelector('#id_deb70b30-fb43-4268-b449-4cd4d93f4de0 button.colab-df-generate');\n",
              "      buttonEl.style.display =\n",
              "        google.colab.kernel.accessAllowed ? 'block' : 'none';\n",
              "\n",
              "      buttonEl.onclick = () => {\n",
              "        google.colab.notebook.generateWithVariable('cotacao');\n",
              "      }\n",
              "      })();\n",
              "    </script>\n",
              "  </div>\n",
              "\n",
              "    </div>\n",
              "  </div>\n"
            ]
          },
          "metadata": {},
          "execution_count": 24
        }
      ]
    },
    {
      "cell_type": "code",
      "source": [
        "# Visualização das cotações no período\n",
        "\n",
        "# Observe a dupla de papéis (ABCB4 e BBAS3) cujas cotações mais se parecem\n",
        "# O algoritmo irá testar o que é observado\n",
        "\n",
        "cotacao.plot(subplots=True);"
      ],
      "metadata": {
        "colab": {
          "base_uri": "https://localhost:8080/",
          "height": 423
        },
        "id": "RBgejWrmyHOV",
        "outputId": "b5fb0284-df71-402e-c151-c69207948b49"
      },
      "execution_count": 25,
      "outputs": [
        {
          "output_type": "display_data",
          "data": {
            "text/plain": [
              "<Figure size 640x480 with 9 Axes>"
            ],
            "image/png": "[encoded data removed]"
          },
          "metadata": {}
        }
      ]
    },
    {
      "cell_type": "markdown",
      "source": [
        "# 3) Augmented Dickey Fuller test (ADF)"
      ],
      "metadata": {
        "id": "bvBp8y1Ymnvo"
      }
    },
    {
      "cell_type": "code",
      "source": [
        "# ADF Test à não estacionariedade da série\n",
        "\n",
        "# A hipótese nula no teste ADF afirma que a série é não-estacionária. A hipótese alternativa afirma a estacionariedade da série.\n",
        "# O primeiro output é o ADF estatístico. Quanto mais negativo, maiores as evidências de aceitar a hipósese nula.\n",
        "# Os principais outputs são o ADF estatístico e os valores críticos de 1%, 5% e 10%.\n",
        "# Se o resultado do ADF test < valores cíticos, rejeita-se a hipótese nula (aceita a alternativa) e os dados são estacionários.\n",
        "# Se o resultado do ADF test > valores cíticos, aceita a hipótese nula (rejeita a alternativa) e os dados são não-estacionários.\n",
        "\n",
        "# Observe que na grande maiorias dos casos o ADF Test é > que os valores críticos.\n",
        "# Isso afirma a não-estacionariedade da série para os ativos e a necessidade da Cointegração\n",
        "\n",
        "\n",
        "ABCB4, BBAS3, BPAC3, ITUB4, BBDC4, ITSA4, BRSR6, SANB3, BPAN4 = adfuller(cotacao['ABCB4.SA']),  adfuller(cotacao['BBAS3.SA']), adfuller(cotacao['BPAC3.SA']),adfuller(cotacao['ITUB4.SA']), adfuller(cotacao['BBDC4.SA']), adfuller(cotacao['ITSA4.SA']), adfuller(cotacao['BRSR6.SA']), adfuller(cotacao['SANB3.SA']), adfuller(cotacao['BPAN4.SA'])\n",
        "ABCB4, BBAS3, BPAC3, ITUB4, BBDC4, ITSA4, BRSR6, SANB3, BPAN4"
      ],
      "metadata": {
        "colab": {
          "base_uri": "https://localhost:8080/"
        },
        "id": "3XGTQCyUvejV",
        "outputId": "2b19c04d-0ba1-4d54-defa-c7c57acaea7e"
      },
      "execution_count": 26,
      "outputs": [
        {
          "output_type": "execute_result",
          "data": {
            "text/plain": [
              "((-0.7639497904824043,\n",
              "  0.8294829182015344,\n",
              "  1,\n",
              "  1756,\n",
              "  {'1%': -3.4340794333632534,\n",
              "   '5%': -2.863187337213453,\n",
              "   '10%': -2.567646992971705},\n",
              "  527.0363543677554),\n",
              " (-0.5865107194484923,\n",
              "  0.8740010123397804,\n",
              "  7,\n",
              "  1750,\n",
              "  {'1%': -3.4340922388213175,\n",
              "   '5%': -2.863192990001633,\n",
              "   '10%': -2.5676500029387754},\n",
              "  3620.0246352054655),\n",
              " (-1.0334481117174528,\n",
              "  0.7408702747336919,\n",
              "  24,\n",
              "  1733,\n",
              "  {'1%': -3.434129003198009,\n",
              "   '5%': -2.863209218981072,\n",
              "   '10%': -2.5676586444827656},\n",
              "  1012.1750185634542),\n",
              " (-2.769841596879736,\n",
              "  0.06271248523784491,\n",
              "  11,\n",
              "  1746,\n",
              "  {'1%': -3.434100824760071,\n",
              "   '5%': -2.863196780129223,\n",
              "   '10%': -2.5676520210882936},\n",
              "  2360.4105825938436),\n",
              " (-2.9134168894012396,\n",
              "  0.04380989380548306,\n",
              "  11,\n",
              "  1746,\n",
              "  {'1%': -3.434100824760071,\n",
              "   '5%': -2.863196780129223,\n",
              "   '10%': -2.5676520210882936},\n",
              "  1248.9177687463794),\n",
              " (-2.294149891323817,\n",
              "  0.1738616905315577,\n",
              "  9,\n",
              "  1748,\n",
              "  {'1%': -3.4340965268715795,\n",
              "   '5%': -2.863194882895319,\n",
              "   '10%': -2.5676510108577832},\n",
              "  -2252.566909066453),\n",
              " (-2.212866475810297,\n",
              "  0.2016088539364932,\n",
              "  11,\n",
              "  1746,\n",
              "  {'1%': -3.434100824760071,\n",
              "   '5%': -2.863196780129223,\n",
              "   '10%': -2.5676520210882936},\n",
              "  330.10456752879463),\n",
              " (-3.013076884282837,\n",
              "  0.03369109937148857,\n",
              "  11,\n",
              "  1746,\n",
              "  {'1%': -3.434100824760071,\n",
              "   '5%': -2.863196780129223,\n",
              "   '10%': -2.5676520210882936},\n",
              "  1375.945743867378),\n",
              " (-1.883393754906381,\n",
              "  0.33991308311804025,\n",
              "  24,\n",
              "  1733,\n",
              "  {'1%': -3.434129003198009,\n",
              "   '5%': -2.863209218981072,\n",
              "   '10%': -2.5676586444827656},\n",
              "  832.8470120064735))"
            ]
          },
          "metadata": {},
          "execution_count": 26
        }
      ]
    },
    {
      "cell_type": "markdown",
      "source": [
        "# 4) Teste de Jarque-Bera"
      ],
      "metadata": {
        "id": "Yc-mp8PwuXT1"
      }
    },
    {
      "cell_type": "code",
      "source": [
        "# Teste de Jarque-Bera       https://dataaspirant.com/jarque-bera-test/\n",
        "\n",
        "# Testa o quão os dados fitam uma distribuição normal com assimetria e kurtose iguais a 0.\n",
        "# É indicado para uma grande base de dados (> 2.000). Nossa amostra indica 1758 séries temporais, todavia decidi manter\n",
        "# o teste para fins de conhecimento.\n",
        "# Os resultados são: 1) O teste estatístico = É a diferença entre a assimetria e a curtose dos dados da distribuição\n",
        "# normal. A distribuição normal que serve de comparação pode ser a de Shapiro ou a de Anderson-Darling\n",
        "# (similar à Shapiro, porém mais sensível aos desvios na cauda da distribuição)\n",
        "# Individualmente, quanto maior o valor do teste estatístico, maior a indicação  de não-normalidade\n",
        "#                  e 2) O p-valor, cuja hipótese nula afirma que os dados fitam uma distribuição normal\n",
        "# Um p-valor < 0.05 indica que devemos rejeitar a hipótese nula e indicar que os dados não fitam uma distribuição normal\n",
        "\n",
        "# Temos uma grande evidência de que os dados não fitam uma distribuição normal, pois todos os p-valores são menores que 0.05\n",
        "\n",
        "ABCB4_jb, BBAS3_jb, BPAC3_jb, ITUB4_jb, BBDC4_jb, ITSA4_jb, BRSR6_jb, SANB3_jb, BPAN4_jb = stats.jarque_bera(cotacao['ABCB4.SA']), stats.jarque_bera(cotacao['BBAS3.SA']), stats.jarque_bera(cotacao['BPAC3.SA']), stats.jarque_bera(cotacao['ITUB4.SA']), stats.jarque_bera(cotacao['BBDC4.SA']), stats.jarque_bera(cotacao['ITSA4.SA']), stats.jarque_bera(cotacao['BRSR6.SA']), stats.jarque_bera(cotacao['SANB3.SA']), stats.jarque_bera(cotacao['BPAN4.SA'])\n",
        "ABCB4_jb, BBAS3_jb, BPAC3_jb, ITUB4_jb, BBDC4_jb, ITSA4_jb, BRSR6_jb, SANB3_jb, BPAN4_jb"
      ],
      "metadata": {
        "colab": {
          "base_uri": "https://localhost:8080/"
        },
        "id": "DRfo84pUv4AD",
        "outputId": "85b46211-c7db-467d-fd98-3dc74842c518"
      },
      "execution_count": 27,
      "outputs": [
        {
          "output_type": "execute_result",
          "data": {
            "text/plain": [
              "(SignificanceResult(statistic=398.1595298969913, pvalue=3.4734145905873296e-87),\n",
              " SignificanceResult(statistic=204.00159534553552, pvalue=5.0305610163827365e-45),\n",
              " SignificanceResult(statistic=146.6195272791166, pvalue=1.4520252938404227e-32),\n",
              " SignificanceResult(statistic=56.36864371628727, pvalue=5.750485872352603e-13),\n",
              " SignificanceResult(statistic=76.69029317222693, pvalue=2.222871869535396e-17),\n",
              " SignificanceResult(statistic=34.46535060910358, pvalue=3.280531458826355e-08),\n",
              " SignificanceResult(statistic=292.20480418620986, pvalue=3.536168719804742e-64),\n",
              " SignificanceResult(statistic=48.48883511497301, pvalue=2.956536451413593e-11),\n",
              " SignificanceResult(statistic=517.5620931615865, pvalue=4.1003360244459945e-113))"
            ]
          },
          "metadata": {},
          "execution_count": 27
        }
      ]
    },
    {
      "cell_type": "markdown",
      "source": [
        "# 5) Teste de Cointegração de Johansen"
      ],
      "metadata": {
        "id": "k35V_Zexm_KU"
      }
    },
    {
      "cell_type": "code",
      "source": [
        "# Função que calcula o teste de Cointegração de Johansen\n",
        "\n",
        "# A Cointegração de Johansen aponta a correlação de múltiplas séries temporais, e nesse caso, há somente 2 ativos\n",
        "# cointegrados: Banco ABC e Banco do Brasil\n",
        "\n",
        "def teste_cointegracao(cotacao, alpha=0.05):                                            # Um alpha padrão de 0.05 trás 95% de intervalo de confianção\n",
        "  \"\"\" Teste de Cointegração\"\"\"\n",
        "  saida = coint_johansen(cotacao, -1, 5)                                                # A saída é um Modelo de Vetor de Erro de Correção (VECM), um tipo especial de vetor autorregressivo aplicado em séries temporais\n",
        "  dict = {'0.90':0,'0.95':1, '0.99':2}                                                  # Estipula um dicionário de valores críticos como um Dick Fuley Aumentado\n",
        "  tracos_estatisticos = saida.lr1                                                       # Tracos estatistícos ou Lr1 é um nível de confiança de 99% para cada razão de vizinhança (likelihiid ratio) de teste\n",
        "  valores_criticos = saida.cvt[:, dict[str(1-alpha)]]                                   # Calcula os valores críticos comparados ao intervalo de confiança de 95% (padrão)\n",
        "\n",
        "  def formatar_print(val, length=6):                                                    # Função para ajustar (formatar) os valores de saída\n",
        "    return str(val).ljust(length)\n",
        "\n",
        "  print(\"Ticker\\t||\\t LR1 > Vlr Crítico \\t=>Signif\\t\\n\", '--'*25)                       # Alinhar os valores de saída à esquerda\n",
        "  for col, traco, cvt in zip(cotacao.columns, tracos_estatisticos, valores_criticos):\n",
        "    print(formatar_print(col), \"|| \", formatar_print(round(traco,2), 7), \">\",\n",
        "          formatar_print(cvt,8), \"=>\", traco > cvt)                                     # Comparação booleana do traço estatístico LR1 (confiança de 99%) > valor crítico (padrão 95%)\n",
        "                                                                                        # Os tickers cujo valor booleano é \"True\" estão cointegrados e se qualificam ao Pairs Trading"
      ],
      "metadata": {
        "id": "d89-Hkoy3niF"
      },
      "execution_count": 28,
      "outputs": []
    },
    {
      "cell_type": "code",
      "source": [
        "# Aplicação da função à série setorial dos bancos\n",
        "\n",
        "teste_cointegracao(cotacao)"
      ],
      "metadata": {
        "colab": {
          "base_uri": "https://localhost:8080/"
        },
        "id": "2Kf6jsTy69IN",
        "outputId": "beee36b2-065c-43e1-abb6-5bd08e424c1c"
      },
      "execution_count": 29,
      "outputs": [
        {
          "output_type": "stream",
          "name": "stdout",
          "text": [
            "Ticker\t||\t LR1 > Vlr Crítico \t=>Signif\t\n",
            " --------------------------------------------------\n",
            "ABCB4.SA ||  209.25  > 179.5199 => True\n",
            "BBAS3.SA ||  154.23  > 143.6691 => True\n",
            "BBDC4.SA ||  103.95  > 111.7797 => False\n",
            "BPAC3.SA ||  68.78   > 83.9383  => False\n",
            "BPAN4.SA ||  44.32   > 60.0627  => False\n",
            "BRSR6.SA ||  26.75   > 40.1749  => False\n",
            "ITSA4.SA ||  13.98   > 24.2761  => False\n",
            "ITUB4.SA ||  3.01    > 12.3212  => False\n",
            "SANB3.SA ||  0.26    > 4.1296   => False\n"
          ]
        }
      ]
    },
    {
      "cell_type": "markdown",
      "source": [
        "# 6) Modelagem do Spread"
      ],
      "metadata": {
        "id": "in9_tosvzWFh"
      }
    },
    {
      "cell_type": "code",
      "source": [
        "# Modelagem do spread\n",
        "\n",
        "# Spread é a avaliação incorreta mútua que o mercado faz no preço de 2 ativos cointegrados. Quanto maior essa avaliação\n",
        "# incorreta, maior o spread e maior o potencial de lucro.\n",
        "# Origem da utilização do Spread na cointegração: Pairs Tradind - Robert Elliot et al (2005) em: https://www.semanticscholar.org/paper/Pairs-trading-Elliott-Hoek/a7e887010e6aa7c7990f32d783750af8017ffabb\n",
        "\n",
        "bidder = cotacao['ABCB4.SA']                      # Bidder é o ato de comprar ações ( ou ação que será comprada) a um determinado preço\n",
        "target = cotacao['BBAS3.SA']                      # Target é a estimativa futura (paridade) do preço da ação estipulada como bidder\n",
        "bidder = sm.add_constant(bidder)                  # Cria a coluna 'const' com valores iguais a 1. Trata-se de um requisito estrutural da OLS para que a estimativa dos mínimos quadrados seja realizada adequadamente\n",
        "modelo = sm.OLS(target, bidder).fit()             # Treinar o modelo. OLS é a técnica indicada para estimar os parâmetros da relação linear entre as ações ABCB4 e BBAS3\n",
        "bidder = bidder['ABCB4.SA']\n",
        "beta = modelo.params['ABCB4.SA']                  # Coeficiente angular ou risco da ação ABCB4 à ação BBSE3\n",
        "spread = target - beta * bidder                   # Fórmula do spread"
      ],
      "metadata": {
        "id": "2BLtixwCGTSx"
      },
      "execution_count": 30,
      "outputs": []
    },
    {
      "cell_type": "code",
      "source": [
        "spread.describe()"
      ],
      "metadata": {
        "colab": {
          "base_uri": "https://localhost:8080/"
        },
        "id": "66CBegbHtjuk",
        "outputId": "6bddf9a8-8ec9-4150-9a95-c613d5f03250"
      },
      "execution_count": 31,
      "outputs": [
        {
          "output_type": "execute_result",
          "data": {
            "text/plain": [
              "count    1758.000000\n",
              "mean       -3.537791\n",
              "std         4.187531\n",
              "min       -14.964035\n",
              "25%        -6.373949\n",
              "50%        -4.271510\n",
              "75%        -0.224514\n",
              "max         7.388327\n",
              "dtype: float64"
            ]
          },
          "metadata": {},
          "execution_count": 31
        }
      ]
    },
    {
      "cell_type": "code",
      "source": [
        "# Spread da relação bidder, ou ativo objeto (ABCB4) e target, ou ativo alvo (BBSE3)\n",
        "\n",
        "spread"
      ],
      "metadata": {
        "colab": {
          "base_uri": "https://localhost:8080/"
        },
        "id": "0sCUTams4pnn",
        "outputId": "77fbed0b-6691-42af-9196-b783e7068f25"
      },
      "execution_count": 32,
      "outputs": [
        {
          "output_type": "execute_result",
          "data": {
            "text/plain": [
              "Date\n",
              "2017-01-02   -2.465933\n",
              "2017-01-03   -2.509389\n",
              "2017-01-04   -3.236789\n",
              "2017-01-05   -3.663229\n",
              "2017-01-06   -3.653997\n",
              "                ...   \n",
              "2024-01-18   -3.811285\n",
              "2024-01-19   -3.406957\n",
              "2024-01-22   -2.321389\n",
              "2024-01-23   -1.682733\n",
              "2024-01-24   -2.702053\n",
              "Length: 1758, dtype: float64"
            ]
          },
          "metadata": {},
          "execution_count": 32
        }
      ]
    },
    {
      "cell_type": "code",
      "source": [
        "spread.loc['2019-11-07':'2019-11-22']"
      ],
      "metadata": {
        "colab": {
          "base_uri": "https://localhost:8080/"
        },
        "id": "3TttNMQQqJbZ",
        "outputId": "2bfb17f5-0299-4349-9977-370b320c2057"
      },
      "execution_count": 33,
      "outputs": [
        {
          "output_type": "execute_result",
          "data": {
            "text/plain": [
              "Date\n",
              "2019-11-07    0.904824\n",
              "2019-11-08    0.445016\n",
              "2019-11-11    0.509536\n",
              "2019-11-12    0.611456\n",
              "2019-11-13    0.156936\n",
              "2019-11-14    0.250688\n",
              "2019-11-18    0.521648\n",
              "2019-11-19   -0.374600\n",
              "2019-11-21   -0.050080\n",
              "2019-11-22    0.720688\n",
              "dtype: float64"
            ]
          },
          "metadata": {},
          "execution_count": 33
        }
      ]
    },
    {
      "cell_type": "code",
      "source": [
        "# A modelagem do Spread - Regressão da Cointegração\n",
        "\n",
        "# O beta (coeficiente angular) é o risco de mercado (sistemático) que indica a sensibilidade da ABCB4\n",
        "# na queda ou alta das ações da BBSE3. O sinal positivo em 2.5 indica a direção proporcional (se BBSE3 sobe, ABCB4\n",
        "# também sobe e vice-versa) e o valor indica que para cada aumento (ou queda) no preço de BBSE3 haverá aumento\n",
        "# (ou queda) de 2.5 vezes em ABCB4.\n",
        "\n",
        "# Coeficiente linear ou intercepto é o ponto em que a reta intercepta o eixo y(ABCB4) e indica variação marginal do\n",
        "# spread.\n",
        "# Ele indica a diminuição média no preço da ABCB4 para cada aumento no preço da BBSE3 (Na verdade, ao igualar ABCB4 a\n",
        "# zero na equação do spread, chegamos a BBSE3 = 1.40. Isso indica que um spread entre zero e 1.40 em BBSE3 resulta num\n",
        "# spread negativo em ABCB4. Fora desse intervalo o spread em ABCB4 é positivo.)\n",
        "\n",
        "# A posição long-short da estratégia em 2 ativos é construída sob 2 premissas:\n",
        "#     1) Quanto menor o beta, melhor.\n",
        "#     2) E consequentemente, quanto menor a exposição ao mercado (sistemático, no caso exposição da ABCB4 à BBSE3), melhor\n",
        "\n",
        "# Caso queira printar só a primeira parte: print(modelo.t_test([1, 0]))\n",
        "\n",
        "print(modelo.summary())"
      ],
      "metadata": {
        "colab": {
          "base_uri": "https://localhost:8080/"
        },
        "id": "3aBFKjuTOEgL",
        "outputId": "38de8ca3-bdb6-44a4-f8ab-b05507e89f10"
      },
      "execution_count": 34,
      "outputs": [
        {
          "output_type": "stream",
          "name": "stdout",
          "text": [
            "                            OLS Regression Results                            \n",
            "==============================================================================\n",
            "Dep. Variable:               BBAS3.SA   R-squared:                       0.753\n",
            "Model:                            OLS   Adj. R-squared:                  0.753\n",
            "Method:                 Least Squares   F-statistic:                     5354.\n",
            "Date:                Wed, 24 Jan 2024   Prob (F-statistic):               0.00\n",
            "Time:                        22:18:36   Log-Likelihood:                -5011.6\n",
            "No. Observations:                1758   AIC:                         1.003e+04\n",
            "Df Residuals:                    1756   BIC:                         1.004e+04\n",
            "Df Model:                           1                                         \n",
            "Covariance Type:            nonrobust                                         \n",
            "==============================================================================\n",
            "                 coef    std err          t      P>|t|      [0.025      0.975]\n",
            "------------------------------------------------------------------------------\n",
            "const         -3.5378      0.479     -7.379      0.000      -4.478      -2.598\n",
            "ABCB4.SA       2.5096      0.034     73.173      0.000       2.442       2.577\n",
            "==============================================================================\n",
            "Omnibus:                       16.376   Durbin-Watson:                   0.024\n",
            "Prob(Omnibus):                  0.000   Jarque-Bera (JB):               11.478\n",
            "Skew:                           0.065   Prob(JB):                      0.00322\n",
            "Kurtosis:                       2.626   Cond. No.                         67.4\n",
            "==============================================================================\n",
            "\n",
            "Notes:\n",
            "[1] Standard Errors assume that the covariance matrix of the errors is correctly specified.\n"
          ]
        }
      ]
    },
    {
      "cell_type": "code",
      "source": [
        "# Equação do Spread da relação linear ABCB4 e BBSE3\n",
        "\n",
        "print('ABCB4 = ', round(modelo.params[1], 2),'*', 'BBSE3', round(modelo.params[0],2)  )"
      ],
      "metadata": {
        "colab": {
          "base_uri": "https://localhost:8080/"
        },
        "id": "PZdXf_Y_gjk5",
        "outputId": "ccc5b121-a53f-4a45-df85-a8c862da5f6c"
      },
      "execution_count": 35,
      "outputs": [
        {
          "output_type": "stream",
          "name": "stdout",
          "text": [
            "ABCB4 =  2.51 * BBSE3 -3.54\n"
          ]
        }
      ]
    },
    {
      "cell_type": "code",
      "source": [
        "# Plotar o spread e analisar graficamente a tendência gaussiana\n",
        "\n",
        "# Há drawdowns em 2019 e 2023\n",
        "\n",
        "spread.plot()\n",
        "plt.axhline(spread.mean(), color='black')\n",
        "plt.legend(['Spread']);"
      ],
      "metadata": {
        "colab": {
          "base_uri": "https://localhost:8080/",
          "height": 422
        },
        "id": "rRNTFTwoNTxX",
        "outputId": "78ea6bd6-5cad-4cac-8b69-de851ea61e57"
      },
      "execution_count": 36,
      "outputs": [
        {
          "output_type": "display_data",
          "data": {
            "text/plain": [
              "<Figure size 640x480 with 1 Axes>"
            ],
            "image/png": "[encoded data removed]"
          },
          "metadata": {}
        }
      ]
    },
    {
      "cell_type": "code",
      "source": [
        "# Função zscore e plot das tendências negativa, gaussiana e positiva\n",
        "\n",
        "# No trading, o ZScore é um indicador de risco probabilístico da tendência de movimento dos preços mensurado sob o desvio-padrão\n",
        "# da média da série.\n",
        "# Nesse caso estamos aplicando a função zscore ao spread e testando desvios-padrão discrepantes, para identificar\n",
        "# tendências de paridade e comprar na baixa e/ou vender na alta.\n",
        "# Observe o zscore do spread e as linhas de desvio padrão: O spread esteve em boa parte de 2017 abaixo de 1 desvio.\n",
        "# Generalizando, não houve vantagem em fazer o spread dessa época até o fim de 2019, quando o spread disparou e foi\n",
        "# acima de 2 desvios padrão. Esse foi o período que utilizamos como backtesting.\n",
        "# Pelo gráfico, poderia-se pensar no spread abaixo de -2 dp que vai do início de 2023 ao spread acima 2 dp no meio\n",
        "# desse ano. Todavia, o gráfico do retorno acumulado do spread mais abaixo nos mostrará que 2019 foi uma oportunidade,\n",
        "# ao passo que 2023 não apresentou tal oportunidade.\n",
        "\n",
        "def zscore(series):\n",
        "    return (series - series.mean()) / np.std(series)                    # Calcula o zscore\n",
        "zscore(spread).plot()                                                   # Plota o zscore e os desvios padrão\n",
        "plt.axhline(zscore(spread).mean(), color='black')\n",
        "plt.axhline(1.0, color='red', linestyle='--')\n",
        "plt.axhline(2.0, color='grey', linestyle='--')\n",
        "plt.axhline(-1.0, color='green', linestyle='--')\n",
        "plt.axhline(-2.0, color='pink', linestyle='--')\n",
        "plt.legend(['Spread z-score', 'Média', '+1', '-1', '+2', '-2']);"
      ],
      "metadata": {
        "colab": {
          "base_uri": "https://localhost:8080/",
          "height": 422
        },
        "id": "_-UzOqC-NbQK",
        "outputId": "7f754771-54e0-437e-9b46-b1977583d118"
      },
      "execution_count": 37,
      "outputs": [
        {
          "output_type": "display_data",
          "data": {
            "text/plain": [
              "<Figure size 640x480 with 1 Axes>"
            ],
            "image/png": "[encoded data removed]"
          },
          "metadata": {}
        }
      ]
    },
    {
      "cell_type": "code",
      "source": [
        "zscore(spread)"
      ],
      "metadata": {
        "colab": {
          "base_uri": "https://localhost:8080/"
        },
        "id": "SIPg-6pvXO7y",
        "outputId": "309af29b-ea1f-46ca-cc89-f920f1f6ecca"
      },
      "execution_count": 38,
      "outputs": [
        {
          "output_type": "execute_result",
          "data": {
            "text/plain": [
              "Date\n",
              "2017-01-02    0.256037\n",
              "2017-01-03    0.245657\n",
              "2017-01-04    0.071901\n",
              "2017-01-05   -0.029964\n",
              "2017-01-06   -0.027758\n",
              "                ...   \n",
              "2024-01-18   -0.065330\n",
              "2024-01-19    0.031253\n",
              "2024-01-22    0.290565\n",
              "2024-01-23    0.443122\n",
              "2024-01-24    0.199634\n",
              "Length: 1758, dtype: float64"
            ]
          },
          "metadata": {},
          "execution_count": 38
        }
      ]
    },
    {
      "cell_type": "code",
      "source": [
        "# Criar um df da relação sinal ruído (SNR) e spread do par de ativos\n",
        "\n",
        "trades = pd.concat([zscore(spread), spread], axis=1)\n",
        "trades.columns = [\"SNR\", \"spread\"]\n",
        "\n",
        "# Adicionar posições long e short nos níveis de zscore\n",
        "trades[\"direcao\"] = 0.0\n",
        "trades.loc[trades.SNR <= -1, \"direcao\"] = 1\n",
        "trades.loc[trades.SNR >= 1, \"direcao\"] = -1\n",
        "\n",
        "# Os trades e as colunas de relação sinal ruído (SNR), o spread de preço dos ativos e a direção (tendência de alta ou baixa)\n",
        "print(trades['direcao'].unique())\n",
        "trades.head()"
      ],
      "metadata": {
        "id": "cbVzX5lLNpJ9",
        "colab": {
          "base_uri": "https://localhost:8080/",
          "height": 255
        },
        "outputId": "3810dced-919e-43d8-af0e-21bbee32ceb2"
      },
      "execution_count": 39,
      "outputs": [
        {
          "output_type": "stream",
          "name": "stdout",
          "text": [
            "[ 0.  1. -1.]\n"
          ]
        },
        {
          "output_type": "execute_result",
          "data": {
            "text/plain": [
              "                 SNR    spread  direcao\n",
              "Date                                   \n",
              "2017-01-02  0.256037 -2.465933      0.0\n",
              "2017-01-03  0.245657 -2.509389      0.0\n",
              "2017-01-04  0.071901 -3.236789      0.0\n",
              "2017-01-05 -0.029964 -3.663229      0.0\n",
              "2017-01-06 -0.027758 -3.653997      0.0"
            ],
            "text/html": [
              "\n",
              "  <div id=\"df-91bce5fa-51cb-472b-98d7-2e6ea1211788\" class=\"colab-df-container\">\n",
              "    <div>\n",
              "<style scoped>\n",
              "    .dataframe tbody tr th:only-of-type {\n",
              "        vertical-align: middle;\n",
              "    }\n",
              "\n",
              "    .dataframe tbody tr th {\n",
              "        vertical-align: top;\n",
              "    }\n",
              "\n",
              "    .dataframe thead th {\n",
              "        text-align: right;\n",
              "    }\n",
              "</style>\n",
              "<table border=\"1\" class=\"dataframe\">\n",
              "  <thead>\n",
              "    <tr style=\"text-align: right;\">\n",
              "      <th></th>\n",
              "      <th>SNR</th>\n",
              "      <th>spread</th>\n",
              "      <th>direcao</th>\n",
              "    </tr>\n",
              "    <tr>\n",
              "      <th>Date</th>\n",
              "      <th></th>\n",
              "      <th></th>\n",
              "      <th></th>\n",
              "    </tr>\n",
              "  </thead>\n",
              "  <tbody>\n",
              "    <tr>\n",
              "      <th>2017-01-02</th>\n",
              "      <td>0.256037</td>\n",
              "      <td>-2.465933</td>\n",
              "      <td>0.0</td>\n",
              "    </tr>\n",
              "    <tr>\n",
              "      <th>2017-01-03</th>\n",
              "      <td>0.245657</td>\n",
              "      <td>-2.509389</td>\n",
              "      <td>0.0</td>\n",
              "    </tr>\n",
              "    <tr>\n",
              "      <th>2017-01-04</th>\n",
              "      <td>0.071901</td>\n",
              "      <td>-3.236789</td>\n",
              "      <td>0.0</td>\n",
              "    </tr>\n",
              "    <tr>\n",
              "      <th>2017-01-05</th>\n",
              "      <td>-0.029964</td>\n",
              "      <td>-3.663229</td>\n",
              "      <td>0.0</td>\n",
              "    </tr>\n",
              "    <tr>\n",
              "      <th>2017-01-06</th>\n",
              "      <td>-0.027758</td>\n",
              "      <td>-3.653997</td>\n",
              "      <td>0.0</td>\n",
              "    </tr>\n",
              "  </tbody>\n",
              "</table>\n",
              "</div>\n",
              "    <div class=\"colab-df-buttons\">\n",
              "\n",
              "  <div class=\"colab-df-container\">\n",
              "    <button class=\"colab-df-convert\" onclick=\"convertToInteractive('df-91bce5fa-51cb-472b-98d7-2e6ea1211788')\"\n",
              "            title=\"Convert this dataframe to an interactive table.\"\n",
              "            style=\"display:none;\">\n",
              "\n",
              "  <svg xmlns=\"http://www.w3.org/2000/svg\" height=\"24px\" viewBox=\"0 -960 960 960\">\n",
              "    <path d=\"M120-120v-720h720v720H120Zm60-500h600v-160H180v160Zm220 220h160v-160H400v160Zm0 220h160v-160H400v160ZM180-400h160v-160H180v160Zm440 0h160v-160H620v160ZM180-180h160v-160H180v160Zm440 0h160v-160H620v160Z\"/>\n",
              "  </svg>\n",
              "    </button>\n",
              "\n",
              "  <style>\n",
              "    .colab-df-container {\n",
              "      display:flex;\n",
              "      gap: 12px;\n",
              "    }\n",
              "\n",
              "    .colab-df-convert {\n",
              "      background-color: #E8F0FE;\n",
              "      border: none;\n",
              "      border-radius: 50%;\n",
              "      cursor: pointer;\n",
              "      display: none;\n",
              "      fill: #1967D2;\n",
              "      height: 32px;\n",
              "      padding: 0 0 0 0;\n",
              "      width: 32px;\n",
              "    }\n",
              "\n",
              "    .colab-df-convert:hover {\n",
              "      background-color: #E2EBFA;\n",
              "      box-shadow: 0px 1px 2px rgba(60, 64, 67, 0.3), 0px 1px 3px 1px rgba(60, 64, 67, 0.15);\n",
              "      fill: #174EA6;\n",
              "    }\n",
              "\n",
              "    .colab-df-buttons div {\n",
              "      margin-bottom: 4px;\n",
              "    }\n",
              "\n",
              "    [theme=dark] .colab-df-convert {\n",
              "      background-color: #3B4455;\n",
              "      fill: #D2E3FC;\n",
              "    }\n",
              "\n",
              "    [theme=dark] .colab-df-convert:hover {\n",
              "      background-color: #434B5C;\n",
              "      box-shadow: 0px 1px 3px 1px rgba(0, 0, 0, 0.15);\n",
              "      filter: drop-shadow(0px 1px 2px rgba(0, 0, 0, 0.3));\n",
              "      fill: #FFFFFF;\n",
              "    }\n",
              "  </style>\n",
              "\n",
              "    <script>\n",
              "      const buttonEl =\n",
              "        document.querySelector('#df-91bce5fa-51cb-472b-98d7-2e6ea1211788 button.colab-df-convert');\n",
              "      buttonEl.style.display =\n",
              "        google.colab.kernel.accessAllowed ? 'block' : 'none';\n",
              "\n",
              "      async function convertToInteractive(key) {\n",
              "        const element = document.querySelector('#df-91bce5fa-51cb-472b-98d7-2e6ea1211788');\n",
              "        const dataTable =\n",
              "          await google.colab.kernel.invokeFunction('convertToInteractive',\n",
              "                                                    [key], {});\n",
              "        if (!dataTable) return;\n",
              "\n",
              "        const docLinkHtml = 'Like what you see? Visit the ' +\n",
              "          '<a target=\"_blank\" href=https://colab.research.google.com/notebooks/data_table.ipynb>data table notebook</a>'\n",
              "          + ' to learn more about interactive tables.';\n",
              "        element.innerHTML = '';\n",
              "        dataTable['output_type'] = 'display_data';\n",
              "        await google.colab.output.renderOutput(dataTable, element);\n",
              "        const docLink = document.createElement('div');\n",
              "        docLink.innerHTML = docLinkHtml;\n",
              "        element.appendChild(docLink);\n",
              "      }\n",
              "    </script>\n",
              "  </div>\n",
              "\n",
              "\n",
              "<div id=\"df-bdf0360b-bbee-491d-b64c-48f2d9045c40\">\n",
              "  <button class=\"colab-df-quickchart\" onclick=\"quickchart('df-bdf0360b-bbee-491d-b64c-48f2d9045c40')\"\n",
              "            title=\"Suggest charts\"\n",
              "            style=\"display:none;\">\n",
              "\n",
              "<svg xmlns=\"http://www.w3.org/2000/svg\" height=\"24px\"viewBox=\"0 0 24 24\"\n",
              "     width=\"24px\">\n",
              "    <g>\n",
              "        <path d=\"M19 3H5c-1.1 0-2 .9-2 2v14c0 1.1.9 2 2 2h14c1.1 0 2-.9 2-2V5c0-1.1-.9-2-2-2zM9 17H7v-7h2v7zm4 0h-2V7h2v10zm4 0h-2v-4h2v4z\"/>\n",
              "    </g>\n",
              "</svg>\n",
              "  </button>\n",
              "\n",
              "<style>\n",
              "  .colab-df-quickchart {\n",
              "      --bg-color: #E8F0FE;\n",
              "      --fill-color: #1967D2;\n",
              "      --hover-bg-color: #E2EBFA;\n",
              "      --hover-fill-color: #174EA6;\n",
              "      --disabled-fill-color: #AAA;\n",
              "      --disabled-bg-color: #DDD;\n",
              "  }\n",
              "\n",
              "  [theme=dark] .colab-df-quickchart {\n",
              "      --bg-color: #3B4455;\n",
              "      --fill-color: #D2E3FC;\n",
              "      --hover-bg-color: #434B5C;\n",
              "      --hover-fill-color: #FFFFFF;\n",
              "      --disabled-bg-color: #3B4455;\n",
              "      --disabled-fill-color: #666;\n",
              "  }\n",
              "\n",
              "  .colab-df-quickchart {\n",
              "    background-color: var(--bg-color);\n",
              "    border: none;\n",
              "    border-radius: 50%;\n",
              "    cursor: pointer;\n",
              "    display: none;\n",
              "    fill: var(--fill-color);\n",
              "    height: 32px;\n",
              "    padding: 0;\n",
              "    width: 32px;\n",
              "  }\n",
              "\n",
              "  .colab-df-quickchart:hover {\n",
              "    background-color: var(--hover-bg-color);\n",
              "    box-shadow: 0 1px 2px rgba(60, 64, 67, 0.3), 0 1px 3px 1px rgba(60, 64, 67, 0.15);\n",
              "    fill: var(--button-hover-fill-color);\n",
              "  }\n",
              "\n",
              "  .colab-df-quickchart-complete:disabled,\n",
              "  .colab-df-quickchart-complete:disabled:hover {\n",
              "    background-color: var(--disabled-bg-color);\n",
              "    fill: var(--disabled-fill-color);\n",
              "    box-shadow: none;\n",
              "  }\n",
              "\n",
              "  .colab-df-spinner {\n",
              "    border: 2px solid var(--fill-color);\n",
              "    border-color: transparent;\n",
              "    border-bottom-color: var(--fill-color);\n",
              "    animation:\n",
              "      spin 1s steps(1) infinite;\n",
              "  }\n",
              "\n",
              "  @keyframes spin {\n",
              "    0% {\n",
              "      border-color: transparent;\n",
              "      border-bottom-color: var(--fill-color);\n",
              "      border-left-color: var(--fill-color);\n",
              "    }\n",
              "    20% {\n",
              "      border-color: transparent;\n",
              "      border-left-color: var(--fill-color);\n",
              "      border-top-color: var(--fill-color);\n",
              "    }\n",
              "    30% {\n",
              "      border-color: transparent;\n",
              "      border-left-color: var(--fill-color);\n",
              "      border-top-color: var(--fill-color);\n",
              "      border-right-color: var(--fill-color);\n",
              "    }\n",
              "    40% {\n",
              "      border-color: transparent;\n",
              "      border-right-color: var(--fill-color);\n",
              "      border-top-color: var(--fill-color);\n",
              "    }\n",
              "    60% {\n",
              "      border-color: transparent;\n",
              "      border-right-color: var(--fill-color);\n",
              "    }\n",
              "    80% {\n",
              "      border-color: transparent;\n",
              "      border-right-color: var(--fill-color);\n",
              "      border-bottom-color: var(--fill-color);\n",
              "    }\n",
              "    90% {\n",
              "      border-color: transparent;\n",
              "      border-bottom-color: var(--fill-color);\n",
              "    }\n",
              "  }\n",
              "</style>\n",
              "\n",
              "  <script>\n",
              "    async function quickchart(key) {\n",
              "      const quickchartButtonEl =\n",
              "        document.querySelector('#' + key + ' button');\n",
              "      quickchartButtonEl.disabled = true;  // To prevent multiple clicks.\n",
              "      quickchartButtonEl.classList.add('colab-df-spinner');\n",
              "      try {\n",
              "        const charts = await google.colab.kernel.invokeFunction(\n",
              "            'suggestCharts', [key], {});\n",
              "      } catch (error) {\n",
              "        console.error('Error during call to suggestCharts:', error);\n",
              "      }\n",
              "      quickchartButtonEl.classList.remove('colab-df-spinner');\n",
              "      quickchartButtonEl.classList.add('colab-df-quickchart-complete');\n",
              "    }\n",
              "    (() => {\n",
              "      let quickchartButtonEl =\n",
              "        document.querySelector('#df-bdf0360b-bbee-491d-b64c-48f2d9045c40 button');\n",
              "      quickchartButtonEl.style.display =\n",
              "        google.colab.kernel.accessAllowed ? 'block' : 'none';\n",
              "    })();\n",
              "  </script>\n",
              "</div>\n",
              "\n",
              "    </div>\n",
              "  </div>\n"
            ]
          },
          "metadata": {},
          "execution_count": 39
        }
      ]
    },
    {
      "cell_type": "code",
      "source": [
        "# Calcular o retorno acumulado do spread e plotar a curva\n",
        "\n",
        "# Uma comparação interessante ao plot da função zscore é que esta exibe o spread da relação entre os ativos e apresenta\n",
        "# aparentes oportunidades em 2019 e 2023.\n",
        "# Contudo, na verdade, o gráfico do retorno acum aponta 3 momentos:\n",
        "    # 1) O par vem perdendo dinheiro desde o início de 2019 porém,\n",
        "    # 2) Houve uma oportunidade de trade diário no final de 2019, no dia 21/11/2019 e,\n",
        "    # 3) Ao contrário do que se pensava, 2023 não foi um ano vantajoso ao trading dessa cointegração\n",
        "\n",
        "retorno = trades.spread.pct_change() * trades.direcao\n",
        "retorno_acum = retorno.cumsum()\n",
        "retorno_acum.plot();"
      ],
      "metadata": {
        "colab": {
          "base_uri": "https://localhost:8080/",
          "height": 422
        },
        "id": "MZgEYLETNvhk",
        "outputId": "aa0dd26b-04ea-4b25-b098-381e70a18d77"
      },
      "execution_count": 62,
      "outputs": [
        {
          "output_type": "display_data",
          "data": {
            "text/plain": [
              "<Figure size 640x480 with 1 Axes>"
            ],
            "image/png": "[encoded data removed]"
          },
          "metadata": {}
        }
      ]
    },
    {
      "cell_type": "markdown",
      "source": [
        "# 7) Selecionar o melhor período de trade com base no gráfico retorno acumulado\n"
      ],
      "metadata": {
        "id": "8XBRDAf-kGRl"
      }
    },
    {
      "cell_type": "code",
      "source": [
        "# Com base na visualização gráfica, o período escolhido filtra os períodos mais baixos e o topo para calcular as\n",
        "# estatísticas da carteira\n",
        "\n",
        "ret_periodo_escolhido = retorno_acum.loc['2019-10-1':'2021-6-1']\n",
        "ret_periodo_escolhido"
      ],
      "metadata": {
        "colab": {
          "base_uri": "https://localhost:8080/"
        },
        "id": "amnc4wCgccuE",
        "outputId": "4b53ee7e-41b0-42bf-b4c7-93b3b31ab55c"
      },
      "execution_count": 41,
      "outputs": [
        {
          "output_type": "execute_result",
          "data": {
            "text/plain": [
              "Date\n",
              "2019-10-01   -1183.449868\n",
              "2019-10-02   -1183.449868\n",
              "2019-10-03   -1189.541499\n",
              "2019-10-04   -1189.767255\n",
              "2019-10-07   -1189.410433\n",
              "                 ...     \n",
              "2021-05-26   -1249.299510\n",
              "2021-05-27   -1249.299510\n",
              "2021-05-28   -1249.299510\n",
              "2021-05-31   -1249.202020\n",
              "2021-06-01   -1249.202020\n",
              "Length: 411, dtype: float64"
            ]
          },
          "metadata": {},
          "execution_count": 41
        }
      ]
    },
    {
      "cell_type": "code",
      "source": [
        "# Estatística Descritiva do periodo\n",
        "\n",
        "ret_periodo_escolhido.describe()"
      ],
      "metadata": {
        "colab": {
          "base_uri": "https://localhost:8080/"
        },
        "id": "4RUyKxfJdFJX",
        "outputId": "56c426af-5a0a-4adc-ef58-5f98a189f05a"
      },
      "execution_count": 42,
      "outputs": [
        {
          "output_type": "execute_result",
          "data": {
            "text/plain": [
              "count     411.000000\n",
              "mean    -1219.892274\n",
              "std        18.726531\n",
              "min     -1249.540111\n",
              "25%     -1249.299510\n",
              "50%     -1209.297670\n",
              "75%     -1209.275219\n",
              "max     -1183.449868\n",
              "dtype: float64"
            ]
          },
          "metadata": {},
          "execution_count": 42
        }
      ]
    },
    {
      "cell_type": "code",
      "source": [
        "# Com base na estatística descritiva, o melhor período de retorno foi entre 7/11/2019 e 22/11/2019\n",
        "\n",
        "print(ret_periodo_escolhido.nsmallest(1))\n",
        "print(ret_periodo_escolhido.nlargest(1))\n"
      ],
      "metadata": {
        "colab": {
          "base_uri": "https://localhost:8080/"
        },
        "id": "OsjzyQBhKIil",
        "outputId": "d767bbc8-fe6a-47db-ade7-b0307403cf04"
      },
      "execution_count": 43,
      "outputs": [
        {
          "output_type": "stream",
          "name": "stdout",
          "text": [
            "Date\n",
            "2020-12-23   -1249.540111\n",
            "dtype: float64\n",
            "Date\n",
            "2019-10-01   -1183.449868\n",
            "dtype: float64\n"
          ]
        }
      ]
    },
    {
      "cell_type": "code",
      "source": [
        "# Melhor período de retorno\n",
        "\n",
        "# Filtrando mais, podemos identificar a data exata para o trade: entre os dias 21/11/2019 (comprar na baixa = o mínimo\n",
        "# de retorno acumulado) e o dia 22/11/2019 (vender na alta = o máximo de retorno acumulado)\n",
        "\n",
        "ret_melhor_periodo = ret_periodo_escolhido.loc['2019-11-07':'2019-11-22']\n",
        "ret_melhor_periodo"
      ],
      "metadata": {
        "colab": {
          "base_uri": "https://localhost:8080/"
        },
        "id": "hJXvKa28SjUe",
        "outputId": "636a179b-bab1-4556-b9a5-e7ba1b800486"
      },
      "execution_count": 44,
      "outputs": [
        {
          "output_type": "execute_result",
          "data": {
            "text/plain": [
              "Date\n",
              "2019-11-07   -1211.841279\n",
              "2019-11-08   -1211.841279\n",
              "2019-11-11   -1211.841279\n",
              "2019-11-12   -1211.841279\n",
              "2019-11-13   -1211.841279\n",
              "2019-11-14   -1211.841279\n",
              "2019-11-18   -1211.841279\n",
              "2019-11-19   -1211.841279\n",
              "2019-11-21   -1211.841279\n",
              "2019-11-22   -1196.450507\n",
              "dtype: float64"
            ]
          },
          "metadata": {},
          "execution_count": 44
        }
      ]
    },
    {
      "cell_type": "code",
      "source": [
        "# Finalmente, essa é a data do trade de maior retorno\n",
        "\n",
        "ret_melhor_periodo_fim = ret_periodo_escolhido.loc['2019-11-21':'2019-11-22']\n",
        "ret_melhor_periodo_fim"
      ],
      "metadata": {
        "colab": {
          "base_uri": "https://localhost:8080/"
        },
        "id": "tjOwn-QnxUwE",
        "outputId": "74ff6977-ed09-4266-def7-0e35938dbcb6"
      },
      "execution_count": 45,
      "outputs": [
        {
          "output_type": "execute_result",
          "data": {
            "text/plain": [
              "Date\n",
              "2019-11-21   -1211.841279\n",
              "2019-11-22   -1196.450507\n",
              "dtype: float64"
            ]
          },
          "metadata": {},
          "execution_count": 45
        }
      ]
    },
    {
      "cell_type": "code",
      "source": [
        "# Analisar o spread do melhor período\n",
        "# Como em ret_melhor_periodo_fim, observe o spread entre os dias 21 e 22/11/2019. Ele parte negativo no dia 21, para\n",
        "# altamente positivo no dia 22.\n",
        "\n",
        "\n",
        "spread.loc['2019-11-07':'2019-11-22']"
      ],
      "metadata": {
        "colab": {
          "base_uri": "https://localhost:8080/"
        },
        "id": "wRR9wRNVrXuV",
        "outputId": "65b8fa31-609b-429f-86dc-2d8d67585db1"
      },
      "execution_count": 46,
      "outputs": [
        {
          "output_type": "execute_result",
          "data": {
            "text/plain": [
              "Date\n",
              "2019-11-07    0.904824\n",
              "2019-11-08    0.445016\n",
              "2019-11-11    0.509536\n",
              "2019-11-12    0.611456\n",
              "2019-11-13    0.156936\n",
              "2019-11-14    0.250688\n",
              "2019-11-18    0.521648\n",
              "2019-11-19   -0.374600\n",
              "2019-11-21   -0.050080\n",
              "2019-11-22    0.720688\n",
              "dtype: float64"
            ]
          },
          "metadata": {},
          "execution_count": 46
        }
      ]
    },
    {
      "cell_type": "code",
      "source": [
        "# Retorno do trade com estratégia de Pairs Trading entre os dias 7 e 22/11/2019 nas ações da ABCB4 (bidder) e BBSE3 (target)\n",
        "\n",
        "# Esse é o retorno bruto, sem contas custos de transação e dividendos\n",
        "\n",
        "\n",
        "retorno_estrategia = round(- ret_melhor_periodo.min() + ret_melhor_periodo.max(),2)\n",
        "retorno_estrategia"
      ],
      "metadata": {
        "colab": {
          "base_uri": "https://localhost:8080/"
        },
        "id": "yYNRpArNIyOj",
        "outputId": "b01fbb0e-b025-4d7f-9462-467dc0838435"
      },
      "execution_count": 47,
      "outputs": [
        {
          "output_type": "execute_result",
          "data": {
            "text/plain": [
              "15.39"
            ]
          },
          "metadata": {},
          "execution_count": 47
        }
      ]
    },
    {
      "cell_type": "code",
      "source": [
        "# Máximo Drawdown do melhor período\n",
        "\n",
        "# Mensura a perda máxima percentual entre maior retorno do pico e menor retorno do pico durante um período\n",
        "\n",
        "max_drawdown = round((ret_melhor_periodo.min() - ret_melhor_periodo.max() ) / ret_melhor_periodo.max() * 100, 2)\n",
        "max_drawdown"
      ],
      "metadata": {
        "colab": {
          "base_uri": "https://localhost:8080/"
        },
        "id": "PLpynjF5kyy1",
        "outputId": "8f0e0853-4136-486d-d326-516f73e5150b"
      },
      "execution_count": 48,
      "outputs": [
        {
          "output_type": "execute_result",
          "data": {
            "text/plain": [
              "1.29"
            ]
          },
          "metadata": {},
          "execution_count": 48
        }
      ]
    },
    {
      "cell_type": "code",
      "source": [
        "# Volatilidade (Desvio padrão) do melhor periodo\n",
        "\n",
        "round(ret_melhor_periodo.std(), 2)"
      ],
      "metadata": {
        "colab": {
          "base_uri": "https://localhost:8080/"
        },
        "id": "LjoH4L3OQkhh",
        "outputId": "4437996b-b28e-499c-dbfb-53711ec8758b"
      },
      "execution_count": 50,
      "outputs": [
        {
          "output_type": "execute_result",
          "data": {
            "text/plain": [
              "4.87"
            ]
          },
          "metadata": {},
          "execution_count": 50
        }
      ]
    },
    {
      "cell_type": "code",
      "source": [
        "retorno.loc['2019-11-07':'2019-11-23']"
      ],
      "metadata": {
        "colab": {
          "base_uri": "https://localhost:8080/"
        },
        "id": "9B5eBJ87bMzM",
        "outputId": "0a90d11b-2412-4217-928c-69519a0451dd"
      },
      "execution_count": 51,
      "outputs": [
        {
          "output_type": "execute_result",
          "data": {
            "text/plain": [
              "Date\n",
              "2019-11-07    -0.797826\n",
              "2019-11-08    -0.000000\n",
              "2019-11-11     0.000000\n",
              "2019-11-12     0.000000\n",
              "2019-11-13    -0.000000\n",
              "2019-11-14     0.000000\n",
              "2019-11-18     0.000000\n",
              "2019-11-19    -0.000000\n",
              "2019-11-21    -0.000000\n",
              "2019-11-22    15.390773\n",
              "dtype: float64"
            ]
          },
          "metadata": {},
          "execution_count": 51
        }
      ]
    },
    {
      "cell_type": "code",
      "source": [
        "# ìndice Sharpe\n",
        "\n",
        "# Observe que quanto maior o índice Sharpe, maior o desempenho do investimento ajustado ao risco.\n",
        "# Um índice Sharpe entre 1 e 2 é considerado bom. Entre 2 e 3 é muito bom e acima de 3 é excelente.\n",
        "\n",
        "# Taxa Selic ao ano: 6.4%. Diária = 6.4/252 https://www.bcb.gov.br/htms/SELIC/SELICdiarios.asp?frame=1\n",
        "exc_retorno = retorno.loc['2019-11-07':'2019-11-23']- (6.4/252)\n",
        "\n",
        "sharpe_ratio = round((math.sqrt(252) * retorno.loc['2019-11-07':'2019-11-23'].mean()) / retorno.loc['2019-11-07':'2019-11-23'].std(),2)\n",
        "print(sharpe_ratio)\n"
      ],
      "metadata": {
        "colab": {
          "base_uri": "https://localhost:8080/"
        },
        "id": "oro_b6TkqjTv",
        "outputId": "9e28d368-bf1d-4630-9784-7166a35cf7ae"
      },
      "execution_count": 52,
      "outputs": [
        {
          "output_type": "stream",
          "name": "stdout",
          "text": [
            "4.73\n"
          ]
        }
      ]
    },
    {
      "cell_type": "code",
      "source": [
        "# Estatísticas descritivas do retorno acumulado\n",
        "\n",
        "retorno_acum.describe()"
      ],
      "metadata": {
        "colab": {
          "base_uri": "https://localhost:8080/"
        },
        "id": "MK9njwW_TL0w",
        "outputId": "d47cd54f-5b45-4d55-e67a-fe5b55b7bf9d"
      },
      "execution_count": 53,
      "outputs": [
        {
          "output_type": "execute_result",
          "data": {
            "text/plain": [
              "count    1757.000000\n",
              "mean     -827.406932\n",
              "std       576.332997\n",
              "min     -1254.802497\n",
              "25%     -1248.029608\n",
              "50%     -1209.275219\n",
              "75%         0.450170\n",
              "max         5.877098\n",
              "dtype: float64"
            ]
          },
          "metadata": {},
          "execution_count": 53
        }
      ]
    },
    {
      "cell_type": "markdown",
      "source": [
        "# 8) Estatísticas do Trade"
      ],
      "metadata": {
        "id": "Q8fuYebh-esy"
      }
    },
    {
      "cell_type": "code",
      "source": [
        "# Estatísticas do Trade\n",
        "\n",
        "df = pd.DataFrame()\n",
        "index_labels= ['Retorno', 'Índice Sharpe', 'CDI diário', 'Volatilidade']\n",
        "df = pd.DataFrame(df,index=index_labels)\n",
        "title = 'Top 10 Fields of Research by Aggregated Funding Amount'\n",
        "df['Valor'] = 'Valor'\n",
        "df.xs('Retorno')['Valor'] = round(- ret_melhor_periodo.min() + ret_melhor_periodo.max(),2)\n",
        "df.xs('Índice Sharpe')['Valor'] = round((math.sqrt(252) * retorno.loc['2019-11-07':'2019-11-23'].mean()) / retorno.loc['2019-11-07':'2019-11-23'].std(),2)\n",
        "df.xs('CDI diário')['Valor'] = round(6.4/252,2)\n",
        "df.xs('Volatilidade')['Valor'] = round(ret_melhor_periodo.std(), 2)\n",
        "df"
      ],
      "metadata": {
        "id": "bUjmL1WrZkIu",
        "colab": {
          "base_uri": "https://localhost:8080/",
          "height": 175
        },
        "outputId": "5a551ed3-4119-40ac-c097-2a399c6ded53"
      },
      "execution_count": 58,
      "outputs": [
        {
          "output_type": "execute_result",
          "data": {
            "text/plain": [
              "               Valor\n",
              "Retorno        15.39\n",
              "Índice Sharpe   4.73\n",
              "CDI diário      0.03\n",
              "Volatilidade    4.87"
            ],
            "text/html": [
              "\n",
              "  <div id=\"df-3f3f3732-f2ba-4e05-83a7-ee790294f191\" class=\"colab-df-container\">\n",
              "    <div>\n",
              "<style scoped>\n",
              "    .dataframe tbody tr th:only-of-type {\n",
              "        vertical-align: middle;\n",
              "    }\n",
              "\n",
              "    .dataframe tbody tr th {\n",
              "        vertical-align: top;\n",
              "    }\n",
              "\n",
              "    .dataframe thead th {\n",
              "        text-align: right;\n",
              "    }\n",
              "</style>\n",
              "<table border=\"1\" class=\"dataframe\">\n",
              "  <thead>\n",
              "    <tr style=\"text-align: right;\">\n",
              "      <th></th>\n",
              "      <th>Valor</th>\n",
              "    </tr>\n",
              "  </thead>\n",
              "  <tbody>\n",
              "    <tr>\n",
              "      <th>Retorno</th>\n",
              "      <td>15.39</td>\n",
              "    </tr>\n",
              "    <tr>\n",
              "      <th>Índice Sharpe</th>\n",
              "      <td>4.73</td>\n",
              "    </tr>\n",
              "    <tr>\n",
              "      <th>CDI diário</th>\n",
              "      <td>0.03</td>\n",
              "    </tr>\n",
              "    <tr>\n",
              "      <th>Volatilidade</th>\n",
              "      <td>4.87</td>\n",
              "    </tr>\n",
              "  </tbody>\n",
              "</table>\n",
              "</div>\n",
              "    <div class=\"colab-df-buttons\">\n",
              "\n",
              "  <div class=\"colab-df-container\">\n",
              "    <button class=\"colab-df-convert\" onclick=\"convertToInteractive('df-3f3f3732-f2ba-4e05-83a7-ee790294f191')\"\n",
              "            title=\"Convert this dataframe to an interactive table.\"\n",
              "            style=\"display:none;\">\n",
              "\n",
              "  <svg xmlns=\"http://www.w3.org/2000/svg\" height=\"24px\" viewBox=\"0 -960 960 960\">\n",
              "    <path d=\"M120-120v-720h720v720H120Zm60-500h600v-160H180v160Zm220 220h160v-160H400v160Zm0 220h160v-160H400v160ZM180-400h160v-160H180v160Zm440 0h160v-160H620v160ZM180-180h160v-160H180v160Zm440 0h160v-160H620v160Z\"/>\n",
              "  </svg>\n",
              "    </button>\n",
              "\n",
              "  <style>\n",
              "    .colab-df-container {\n",
              "      display:flex;\n",
              "      gap: 12px;\n",
              "    }\n",
              "\n",
              "    .colab-df-convert {\n",
              "      background-color: #E8F0FE;\n",
              "      border: none;\n",
              "      border-radius: 50%;\n",
              "      cursor: pointer;\n",
              "      display: none;\n",
              "      fill: #1967D2;\n",
              "      height: 32px;\n",
              "      padding: 0 0 0 0;\n",
              "      width: 32px;\n",
              "    }\n",
              "\n",
              "    .colab-df-convert:hover {\n",
              "      background-color: #E2EBFA;\n",
              "      box-shadow: 0px 1px 2px rgba(60, 64, 67, 0.3), 0px 1px 3px 1px rgba(60, 64, 67, 0.15);\n",
              "      fill: #174EA6;\n",
              "    }\n",
              "\n",
              "    .colab-df-buttons div {\n",
              "      margin-bottom: 4px;\n",
              "    }\n",
              "\n",
              "    [theme=dark] .colab-df-convert {\n",
              "      background-color: #3B4455;\n",
              "      fill: #D2E3FC;\n",
              "    }\n",
              "\n",
              "    [theme=dark] .colab-df-convert:hover {\n",
              "      background-color: #434B5C;\n",
              "      box-shadow: 0px 1px 3px 1px rgba(0, 0, 0, 0.15);\n",
              "      filter: drop-shadow(0px 1px 2px rgba(0, 0, 0, 0.3));\n",
              "      fill: #FFFFFF;\n",
              "    }\n",
              "  </style>\n",
              "\n",
              "    <script>\n",
              "      const buttonEl =\n",
              "        document.querySelector('#df-3f3f3732-f2ba-4e05-83a7-ee790294f191 button.colab-df-convert');\n",
              "      buttonEl.style.display =\n",
              "        google.colab.kernel.accessAllowed ? 'block' : 'none';\n",
              "\n",
              "      async function convertToInteractive(key) {\n",
              "        const element = document.querySelector('#df-3f3f3732-f2ba-4e05-83a7-ee790294f191');\n",
              "        const dataTable =\n",
              "          await google.colab.kernel.invokeFunction('convertToInteractive',\n",
              "                                                    [key], {});\n",
              "        if (!dataTable) return;\n",
              "\n",
              "        const docLinkHtml = 'Like what you see? Visit the ' +\n",
              "          '<a target=\"_blank\" href=https://colab.research.google.com/notebooks/data_table.ipynb>data table notebook</a>'\n",
              "          + ' to learn more about interactive tables.';\n",
              "        element.innerHTML = '';\n",
              "        dataTable['output_type'] = 'display_data';\n",
              "        await google.colab.output.renderOutput(dataTable, element);\n",
              "        const docLink = document.createElement('div');\n",
              "        docLink.innerHTML = docLinkHtml;\n",
              "        element.appendChild(docLink);\n",
              "      }\n",
              "    </script>\n",
              "  </div>\n",
              "\n",
              "\n",
              "<div id=\"df-8bbb723f-b2fb-4445-a525-f7dda40599ae\">\n",
              "  <button class=\"colab-df-quickchart\" onclick=\"quickchart('df-8bbb723f-b2fb-4445-a525-f7dda40599ae')\"\n",
              "            title=\"Suggest charts\"\n",
              "            style=\"display:none;\">\n",
              "\n",
              "<svg xmlns=\"http://www.w3.org/2000/svg\" height=\"24px\"viewBox=\"0 0 24 24\"\n",
              "     width=\"24px\">\n",
              "    <g>\n",
              "        <path d=\"M19 3H5c-1.1 0-2 .9-2 2v14c0 1.1.9 2 2 2h14c1.1 0 2-.9 2-2V5c0-1.1-.9-2-2-2zM9 17H7v-7h2v7zm4 0h-2V7h2v10zm4 0h-2v-4h2v4z\"/>\n",
              "    </g>\n",
              "</svg>\n",
              "  </button>\n",
              "\n",
              "<style>\n",
              "  .colab-df-quickchart {\n",
              "      --bg-color: #E8F0FE;\n",
              "      --fill-color: #1967D2;\n",
              "      --hover-bg-color: #E2EBFA;\n",
              "      --hover-fill-color: #174EA6;\n",
              "      --disabled-fill-color: #AAA;\n",
              "      --disabled-bg-color: #DDD;\n",
              "  }\n",
              "\n",
              "  [theme=dark] .colab-df-quickchart {\n",
              "      --bg-color: #3B4455;\n",
              "      --fill-color: #D2E3FC;\n",
              "      --hover-bg-color: #434B5C;\n",
              "      --hover-fill-color: #FFFFFF;\n",
              "      --disabled-bg-color: #3B4455;\n",
              "      --disabled-fill-color: #666;\n",
              "  }\n",
              "\n",
              "  .colab-df-quickchart {\n",
              "    background-color: var(--bg-color);\n",
              "    border: none;\n",
              "    border-radius: 50%;\n",
              "    cursor: pointer;\n",
              "    display: none;\n",
              "    fill: var(--fill-color);\n",
              "    height: 32px;\n",
              "    padding: 0;\n",
              "    width: 32px;\n",
              "  }\n",
              "\n",
              "  .colab-df-quickchart:hover {\n",
              "    background-color: var(--hover-bg-color);\n",
              "    box-shadow: 0 1px 2px rgba(60, 64, 67, 0.3), 0 1px 3px 1px rgba(60, 64, 67, 0.15);\n",
              "    fill: var(--button-hover-fill-color);\n",
              "  }\n",
              "\n",
              "  .colab-df-quickchart-complete:disabled,\n",
              "  .colab-df-quickchart-complete:disabled:hover {\n",
              "    background-color: var(--disabled-bg-color);\n",
              "    fill: var(--disabled-fill-color);\n",
              "    box-shadow: none;\n",
              "  }\n",
              "\n",
              "  .colab-df-spinner {\n",
              "    border: 2px solid var(--fill-color);\n",
              "    border-color: transparent;\n",
              "    border-bottom-color: var(--fill-color);\n",
              "    animation:\n",
              "      spin 1s steps(1) infinite;\n",
              "  }\n",
              "\n",
              "  @keyframes spin {\n",
              "    0% {\n",
              "      border-color: transparent;\n",
              "      border-bottom-color: var(--fill-color);\n",
              "      border-left-color: var(--fill-color);\n",
              "    }\n",
              "    20% {\n",
              "      border-color: transparent;\n",
              "      border-left-color: var(--fill-color);\n",
              "      border-top-color: var(--fill-color);\n",
              "    }\n",
              "    30% {\n",
              "      border-color: transparent;\n",
              "      border-left-color: var(--fill-color);\n",
              "      border-top-color: var(--fill-color);\n",
              "      border-right-color: var(--fill-color);\n",
              "    }\n",
              "    40% {\n",
              "      border-color: transparent;\n",
              "      border-right-color: var(--fill-color);\n",
              "      border-top-color: var(--fill-color);\n",
              "    }\n",
              "    60% {\n",
              "      border-color: transparent;\n",
              "      border-right-color: var(--fill-color);\n",
              "    }\n",
              "    80% {\n",
              "      border-color: transparent;\n",
              "      border-right-color: var(--fill-color);\n",
              "      border-bottom-color: var(--fill-color);\n",
              "    }\n",
              "    90% {\n",
              "      border-color: transparent;\n",
              "      border-bottom-color: var(--fill-color);\n",
              "    }\n",
              "  }\n",
              "</style>\n",
              "\n",
              "  <script>\n",
              "    async function quickchart(key) {\n",
              "      const quickchartButtonEl =\n",
              "        document.querySelector('#' + key + ' button');\n",
              "      quickchartButtonEl.disabled = true;  // To prevent multiple clicks.\n",
              "      quickchartButtonEl.classList.add('colab-df-spinner');\n",
              "      try {\n",
              "        const charts = await google.colab.kernel.invokeFunction(\n",
              "            'suggestCharts', [key], {});\n",
              "      } catch (error) {\n",
              "        console.error('Error during call to suggestCharts:', error);\n",
              "      }\n",
              "      quickchartButtonEl.classList.remove('colab-df-spinner');\n",
              "      quickchartButtonEl.classList.add('colab-df-quickchart-complete');\n",
              "    }\n",
              "    (() => {\n",
              "      let quickchartButtonEl =\n",
              "        document.querySelector('#df-8bbb723f-b2fb-4445-a525-f7dda40599ae button');\n",
              "      quickchartButtonEl.style.display =\n",
              "        google.colab.kernel.accessAllowed ? 'block' : 'none';\n",
              "    })();\n",
              "  </script>\n",
              "</div>\n",
              "\n",
              "  <div id=\"id_f1218d93-34c6-4f6d-8b2d-278a09d566af\">\n",
              "    <style>\n",
              "      .colab-df-generate {\n",
              "        background-color: #E8F0FE;\n",
              "        border: none;\n",
              "        border-radius: 50%;\n",
              "        cursor: pointer;\n",
              "        display: none;\n",
              "        fill: #1967D2;\n",
              "        height: 32px;\n",
              "        padding: 0 0 0 0;\n",
              "        width: 32px;\n",
              "      }\n",
              "\n",
              "      .colab-df-generate:hover {\n",
              "        background-color: #E2EBFA;\n",
              "        box-shadow: 0px 1px 2px rgba(60, 64, 67, 0.3), 0px 1px 3px 1px rgba(60, 64, 67, 0.15);\n",
              "        fill: #174EA6;\n",
              "      }\n",
              "\n",
              "      [theme=dark] .colab-df-generate {\n",
              "        background-color: #3B4455;\n",
              "        fill: #D2E3FC;\n",
              "      }\n",
              "\n",
              "      [theme=dark] .colab-df-generate:hover {\n",
              "        background-color: #434B5C;\n",
              "        box-shadow: 0px 1px 3px 1px rgba(0, 0, 0, 0.15);\n",
              "        filter: drop-shadow(0px 1px 2px rgba(0, 0, 0, 0.3));\n",
              "        fill: #FFFFFF;\n",
              "      }\n",
              "    </style>\n",
              "    <button class=\"colab-df-generate\" onclick=\"generateWithVariable('df')\"\n",
              "            title=\"Generate code using this dataframe.\"\n",
              "            style=\"display:none;\">\n",
              "\n",
              "  <svg xmlns=\"http://www.w3.org/2000/svg\" height=\"24px\"viewBox=\"0 0 24 24\"\n",
              "       width=\"24px\">\n",
              "    <path d=\"M7,19H8.4L18.45,9,17,7.55,7,17.6ZM5,21V16.75L18.45,3.32a2,2,0,0,1,2.83,0l1.4,1.43a1.91,1.91,0,0,1,.58,1.4,1.91,1.91,0,0,1-.58,1.4L9.25,21ZM18.45,9,17,7.55Zm-12,3A5.31,5.31,0,0,0,4.9,8.1,5.31,5.31,0,0,0,1,6.5,5.31,5.31,0,0,0,4.9,4.9,5.31,5.31,0,0,0,6.5,1,5.31,5.31,0,0,0,8.1,4.9,5.31,5.31,0,0,0,12,6.5,5.46,5.46,0,0,0,6.5,12Z\"/>\n",
              "  </svg>\n",
              "    </button>\n",
              "    <script>\n",
              "      (() => {\n",
              "      const buttonEl =\n",
              "        document.querySelector('#id_f1218d93-34c6-4f6d-8b2d-278a09d566af button.colab-df-generate');\n",
              "      buttonEl.style.display =\n",
              "        google.colab.kernel.accessAllowed ? 'block' : 'none';\n",
              "\n",
              "      buttonEl.onclick = () => {\n",
              "        google.colab.notebook.generateWithVariable('df');\n",
              "      }\n",
              "      })();\n",
              "    </script>\n",
              "  </div>\n",
              "\n",
              "    </div>\n",
              "  </div>\n"
            ]
          },
          "metadata": {},
          "execution_count": 58
        }
      ]
    },
    {
      "cell_type": "markdown",
      "source": [
        "# 9) Conclusão\n",
        "\n",
        "Ao passarmos pela modelagem do spread, inferir hipóteses através do testes ADF e Jaque-Bera e calcular o backtesting da estratégia, passamos por importantes estágios da Estatística aplicada às finanças.\n",
        "\n",
        "A estratégia mostrou-se interessante, pois um dos corolários da Cointegração é o risco próximo de zero e a descorrelação com o risco de mercado (como vimos no beta negativo).\n",
        "\n",
        "O físico Nunzio Tartaglia foi o primeiro a aplicar a cointegração na década de 80 em finanças e, como tudo na vida tende a melhorar, a literatura preditiva indica o algoritmo de redes neurais de backpropagation para a previsão de preços e retornos de ações."
      ],
      "metadata": {
        "id": "Kg4gamW94n76"
      }
    }
  ]
}